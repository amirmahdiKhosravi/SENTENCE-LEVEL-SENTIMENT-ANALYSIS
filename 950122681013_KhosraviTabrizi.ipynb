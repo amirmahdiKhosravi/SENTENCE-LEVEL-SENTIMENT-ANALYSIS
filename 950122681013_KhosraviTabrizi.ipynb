{
  "nbformat": 4,
  "nbformat_minor": 0,
  "metadata": {
    "colab": {
      "provenance": [],
      "authorship_tag": "ABX9TyNpu7dOUSAap2m5ucuCdhFP",
      "include_colab_link": true
    },
    "kernelspec": {
      "name": "python3",
      "display_name": "Python 3"
    },
    "accelerator": "GPU",
    "widgets": {
      "application/vnd.jupyter.widget-state+json": {
        "0795d9c1b22e4c80882e3954529f671c": {
          "model_module": "@jupyter-widgets/controls",
          "model_name": "HBoxModel",
          "state": {
            "_view_name": "HBoxView",
            "_dom_classes": [],
            "_model_name": "HBoxModel",
            "_view_module": "@jupyter-widgets/controls",
            "_model_module_version": "1.5.0",
            "_view_count": null,
            "_view_module_version": "1.5.0",
            "box_style": "",
            "layout": "IPY_MODEL_9dd95c78523d4048b5c2f2590e1b51bd",
            "_model_module": "@jupyter-widgets/controls",
            "children": [
              "IPY_MODEL_8af1c785eb50434399887224e72decf7",
              "IPY_MODEL_85cf88f947b14b6787f56f91fdf3cea3"
            ]
          },
          "model_module_version": "1.5.0"
        },
        "9dd95c78523d4048b5c2f2590e1b51bd": {
          "model_module": "@jupyter-widgets/base",
          "model_name": "LayoutModel",
          "state": {
            "_view_name": "LayoutView",
            "grid_template_rows": null,
            "right": null,
            "justify_content": null,
            "_view_module": "@jupyter-widgets/base",
            "overflow": null,
            "_model_module_version": "1.2.0",
            "_view_count": null,
            "flex_flow": null,
            "width": null,
            "min_width": null,
            "border": null,
            "align_items": null,
            "bottom": null,
            "_model_module": "@jupyter-widgets/base",
            "top": null,
            "grid_column": null,
            "overflow_y": null,
            "overflow_x": null,
            "grid_auto_flow": null,
            "grid_area": null,
            "grid_template_columns": null,
            "flex": null,
            "_model_name": "LayoutModel",
            "justify_items": null,
            "grid_row": null,
            "max_height": null,
            "align_content": null,
            "visibility": null,
            "align_self": null,
            "height": null,
            "min_height": null,
            "padding": null,
            "grid_auto_rows": null,
            "grid_gap": null,
            "max_width": null,
            "order": null,
            "_view_module_version": "1.2.0",
            "grid_template_areas": null,
            "object_position": null,
            "object_fit": null,
            "grid_auto_columns": null,
            "margin": null,
            "display": null,
            "left": null
          },
          "model_module_version": "1.2.0"
        },
        "8af1c785eb50434399887224e72decf7": {
          "model_module": "@jupyter-widgets/controls",
          "model_name": "FloatProgressModel",
          "state": {
            "_view_name": "ProgressView",
            "style": "IPY_MODEL_198caf32443c43bb895f8d7e7dd5154e",
            "_dom_classes": [],
            "description": "Downloading: 100%",
            "_model_name": "FloatProgressModel",
            "bar_style": "success",
            "max": 231508,
            "_view_module": "@jupyter-widgets/controls",
            "_model_module_version": "1.5.0",
            "value": 231508,
            "_view_count": null,
            "_view_module_version": "1.5.0",
            "orientation": "horizontal",
            "min": 0,
            "description_tooltip": null,
            "_model_module": "@jupyter-widgets/controls",
            "layout": "IPY_MODEL_4f7c7d7dd9c940178e889648a2f20bf8"
          },
          "model_module_version": "1.5.0"
        },
        "85cf88f947b14b6787f56f91fdf3cea3": {
          "model_module": "@jupyter-widgets/controls",
          "model_name": "HTMLModel",
          "state": {
            "_view_name": "HTMLView",
            "style": "IPY_MODEL_87eae1f4c9af4b3fa11a052f58a5174e",
            "_dom_classes": [],
            "description": "",
            "_model_name": "HTMLModel",
            "placeholder": "​",
            "_view_module": "@jupyter-widgets/controls",
            "_model_module_version": "1.5.0",
            "value": " 232k/232k [00:00&lt;00:00, 571kB/s]",
            "_view_count": null,
            "_view_module_version": "1.5.0",
            "description_tooltip": null,
            "_model_module": "@jupyter-widgets/controls",
            "layout": "IPY_MODEL_c41ff63be900473fb88b950737735763"
          },
          "model_module_version": "1.5.0"
        },
        "198caf32443c43bb895f8d7e7dd5154e": {
          "model_module": "@jupyter-widgets/controls",
          "model_name": "ProgressStyleModel",
          "state": {
            "_view_name": "StyleView",
            "_model_name": "ProgressStyleModel",
            "description_width": "initial",
            "_view_module": "@jupyter-widgets/base",
            "_model_module_version": "1.5.0",
            "_view_count": null,
            "_view_module_version": "1.2.0",
            "bar_color": null,
            "_model_module": "@jupyter-widgets/controls"
          },
          "model_module_version": "1.5.0"
        },
        "4f7c7d7dd9c940178e889648a2f20bf8": {
          "model_module": "@jupyter-widgets/base",
          "model_name": "LayoutModel",
          "state": {
            "_view_name": "LayoutView",
            "grid_template_rows": null,
            "right": null,
            "justify_content": null,
            "_view_module": "@jupyter-widgets/base",
            "overflow": null,
            "_model_module_version": "1.2.0",
            "_view_count": null,
            "flex_flow": null,
            "width": null,
            "min_width": null,
            "border": null,
            "align_items": null,
            "bottom": null,
            "_model_module": "@jupyter-widgets/base",
            "top": null,
            "grid_column": null,
            "overflow_y": null,
            "overflow_x": null,
            "grid_auto_flow": null,
            "grid_area": null,
            "grid_template_columns": null,
            "flex": null,
            "_model_name": "LayoutModel",
            "justify_items": null,
            "grid_row": null,
            "max_height": null,
            "align_content": null,
            "visibility": null,
            "align_self": null,
            "height": null,
            "min_height": null,
            "padding": null,
            "grid_auto_rows": null,
            "grid_gap": null,
            "max_width": null,
            "order": null,
            "_view_module_version": "1.2.0",
            "grid_template_areas": null,
            "object_position": null,
            "object_fit": null,
            "grid_auto_columns": null,
            "margin": null,
            "display": null,
            "left": null
          },
          "model_module_version": "1.2.0"
        },
        "87eae1f4c9af4b3fa11a052f58a5174e": {
          "model_module": "@jupyter-widgets/controls",
          "model_name": "DescriptionStyleModel",
          "state": {
            "_view_name": "StyleView",
            "_model_name": "DescriptionStyleModel",
            "description_width": "",
            "_view_module": "@jupyter-widgets/base",
            "_model_module_version": "1.5.0",
            "_view_count": null,
            "_view_module_version": "1.2.0",
            "_model_module": "@jupyter-widgets/controls"
          },
          "model_module_version": "1.5.0"
        },
        "c41ff63be900473fb88b950737735763": {
          "model_module": "@jupyter-widgets/base",
          "model_name": "LayoutModel",
          "state": {
            "_view_name": "LayoutView",
            "grid_template_rows": null,
            "right": null,
            "justify_content": null,
            "_view_module": "@jupyter-widgets/base",
            "overflow": null,
            "_model_module_version": "1.2.0",
            "_view_count": null,
            "flex_flow": null,
            "width": null,
            "min_width": null,
            "border": null,
            "align_items": null,
            "bottom": null,
            "_model_module": "@jupyter-widgets/base",
            "top": null,
            "grid_column": null,
            "overflow_y": null,
            "overflow_x": null,
            "grid_auto_flow": null,
            "grid_area": null,
            "grid_template_columns": null,
            "flex": null,
            "_model_name": "LayoutModel",
            "justify_items": null,
            "grid_row": null,
            "max_height": null,
            "align_content": null,
            "visibility": null,
            "align_self": null,
            "height": null,
            "min_height": null,
            "padding": null,
            "grid_auto_rows": null,
            "grid_gap": null,
            "max_width": null,
            "order": null,
            "_view_module_version": "1.2.0",
            "grid_template_areas": null,
            "object_position": null,
            "object_fit": null,
            "grid_auto_columns": null,
            "margin": null,
            "display": null,
            "left": null
          },
          "model_module_version": "1.2.0"
        },
        "92596968a2c542b48d54057b2b98e300": {
          "model_module": "@jupyter-widgets/controls",
          "model_name": "HBoxModel",
          "state": {
            "_view_name": "HBoxView",
            "_dom_classes": [],
            "_model_name": "HBoxModel",
            "_view_module": "@jupyter-widgets/controls",
            "_model_module_version": "1.5.0",
            "_view_count": null,
            "_view_module_version": "1.5.0",
            "box_style": "",
            "layout": "IPY_MODEL_ebd16817e03643959e26a20ac3c82ce2",
            "_model_module": "@jupyter-widgets/controls",
            "children": [
              "IPY_MODEL_7d68a0452b2c4b73b985d99f91515dee",
              "IPY_MODEL_54c4db28d3374560bf7841074636f3e2"
            ]
          },
          "model_module_version": "1.5.0"
        },
        "ebd16817e03643959e26a20ac3c82ce2": {
          "model_module": "@jupyter-widgets/base",
          "model_name": "LayoutModel",
          "state": {
            "_view_name": "LayoutView",
            "grid_template_rows": null,
            "right": null,
            "justify_content": null,
            "_view_module": "@jupyter-widgets/base",
            "overflow": null,
            "_model_module_version": "1.2.0",
            "_view_count": null,
            "flex_flow": null,
            "width": null,
            "min_width": null,
            "border": null,
            "align_items": null,
            "bottom": null,
            "_model_module": "@jupyter-widgets/base",
            "top": null,
            "grid_column": null,
            "overflow_y": null,
            "overflow_x": null,
            "grid_auto_flow": null,
            "grid_area": null,
            "grid_template_columns": null,
            "flex": null,
            "_model_name": "LayoutModel",
            "justify_items": null,
            "grid_row": null,
            "max_height": null,
            "align_content": null,
            "visibility": null,
            "align_self": null,
            "height": null,
            "min_height": null,
            "padding": null,
            "grid_auto_rows": null,
            "grid_gap": null,
            "max_width": null,
            "order": null,
            "_view_module_version": "1.2.0",
            "grid_template_areas": null,
            "object_position": null,
            "object_fit": null,
            "grid_auto_columns": null,
            "margin": null,
            "display": null,
            "left": null
          },
          "model_module_version": "1.2.0"
        },
        "7d68a0452b2c4b73b985d99f91515dee": {
          "model_module": "@jupyter-widgets/controls",
          "model_name": "FloatProgressModel",
          "state": {
            "_view_name": "ProgressView",
            "style": "IPY_MODEL_5fd1a5db1ba74a3dbf036540dd2165fd",
            "_dom_classes": [],
            "description": "Downloading: 100%",
            "_model_name": "FloatProgressModel",
            "bar_style": "success",
            "max": 433,
            "_view_module": "@jupyter-widgets/controls",
            "_model_module_version": "1.5.0",
            "value": 433,
            "_view_count": null,
            "_view_module_version": "1.5.0",
            "orientation": "horizontal",
            "min": 0,
            "description_tooltip": null,
            "_model_module": "@jupyter-widgets/controls",
            "layout": "IPY_MODEL_5fd7a7d9d998421dbea3984c55401c9c"
          },
          "model_module_version": "1.5.0"
        },
        "54c4db28d3374560bf7841074636f3e2": {
          "model_module": "@jupyter-widgets/controls",
          "model_name": "HTMLModel",
          "state": {
            "_view_name": "HTMLView",
            "style": "IPY_MODEL_3028ee6696194a02bf9cb2379020e45a",
            "_dom_classes": [],
            "description": "",
            "_model_name": "HTMLModel",
            "placeholder": "​",
            "_view_module": "@jupyter-widgets/controls",
            "_model_module_version": "1.5.0",
            "value": " 433/433 [00:05&lt;00:00, 73.9B/s]",
            "_view_count": null,
            "_view_module_version": "1.5.0",
            "description_tooltip": null,
            "_model_module": "@jupyter-widgets/controls",
            "layout": "IPY_MODEL_40ee7fe2423c4e64aa9f4081d2076465"
          },
          "model_module_version": "1.5.0"
        },
        "5fd1a5db1ba74a3dbf036540dd2165fd": {
          "model_module": "@jupyter-widgets/controls",
          "model_name": "ProgressStyleModel",
          "state": {
            "_view_name": "StyleView",
            "_model_name": "ProgressStyleModel",
            "description_width": "initial",
            "_view_module": "@jupyter-widgets/base",
            "_model_module_version": "1.5.0",
            "_view_count": null,
            "_view_module_version": "1.2.0",
            "bar_color": null,
            "_model_module": "@jupyter-widgets/controls"
          },
          "model_module_version": "1.5.0"
        },
        "5fd7a7d9d998421dbea3984c55401c9c": {
          "model_module": "@jupyter-widgets/base",
          "model_name": "LayoutModel",
          "state": {
            "_view_name": "LayoutView",
            "grid_template_rows": null,
            "right": null,
            "justify_content": null,
            "_view_module": "@jupyter-widgets/base",
            "overflow": null,
            "_model_module_version": "1.2.0",
            "_view_count": null,
            "flex_flow": null,
            "width": null,
            "min_width": null,
            "border": null,
            "align_items": null,
            "bottom": null,
            "_model_module": "@jupyter-widgets/base",
            "top": null,
            "grid_column": null,
            "overflow_y": null,
            "overflow_x": null,
            "grid_auto_flow": null,
            "grid_area": null,
            "grid_template_columns": null,
            "flex": null,
            "_model_name": "LayoutModel",
            "justify_items": null,
            "grid_row": null,
            "max_height": null,
            "align_content": null,
            "visibility": null,
            "align_self": null,
            "height": null,
            "min_height": null,
            "padding": null,
            "grid_auto_rows": null,
            "grid_gap": null,
            "max_width": null,
            "order": null,
            "_view_module_version": "1.2.0",
            "grid_template_areas": null,
            "object_position": null,
            "object_fit": null,
            "grid_auto_columns": null,
            "margin": null,
            "display": null,
            "left": null
          },
          "model_module_version": "1.2.0"
        },
        "3028ee6696194a02bf9cb2379020e45a": {
          "model_module": "@jupyter-widgets/controls",
          "model_name": "DescriptionStyleModel",
          "state": {
            "_view_name": "StyleView",
            "_model_name": "DescriptionStyleModel",
            "description_width": "",
            "_view_module": "@jupyter-widgets/base",
            "_model_module_version": "1.5.0",
            "_view_count": null,
            "_view_module_version": "1.2.0",
            "_model_module": "@jupyter-widgets/controls"
          },
          "model_module_version": "1.5.0"
        },
        "40ee7fe2423c4e64aa9f4081d2076465": {
          "model_module": "@jupyter-widgets/base",
          "model_name": "LayoutModel",
          "state": {
            "_view_name": "LayoutView",
            "grid_template_rows": null,
            "right": null,
            "justify_content": null,
            "_view_module": "@jupyter-widgets/base",
            "overflow": null,
            "_model_module_version": "1.2.0",
            "_view_count": null,
            "flex_flow": null,
            "width": null,
            "min_width": null,
            "border": null,
            "align_items": null,
            "bottom": null,
            "_model_module": "@jupyter-widgets/base",
            "top": null,
            "grid_column": null,
            "overflow_y": null,
            "overflow_x": null,
            "grid_auto_flow": null,
            "grid_area": null,
            "grid_template_columns": null,
            "flex": null,
            "_model_name": "LayoutModel",
            "justify_items": null,
            "grid_row": null,
            "max_height": null,
            "align_content": null,
            "visibility": null,
            "align_self": null,
            "height": null,
            "min_height": null,
            "padding": null,
            "grid_auto_rows": null,
            "grid_gap": null,
            "max_width": null,
            "order": null,
            "_view_module_version": "1.2.0",
            "grid_template_areas": null,
            "object_position": null,
            "object_fit": null,
            "grid_auto_columns": null,
            "margin": null,
            "display": null,
            "left": null
          },
          "model_module_version": "1.2.0"
        },
        "69eb92fee0fd4524b70854d218e43815": {
          "model_module": "@jupyter-widgets/controls",
          "model_name": "HBoxModel",
          "state": {
            "_view_name": "HBoxView",
            "_dom_classes": [],
            "_model_name": "HBoxModel",
            "_view_module": "@jupyter-widgets/controls",
            "_model_module_version": "1.5.0",
            "_view_count": null,
            "_view_module_version": "1.5.0",
            "box_style": "",
            "layout": "IPY_MODEL_6a6ff863907446f0a5876601dff72ac7",
            "_model_module": "@jupyter-widgets/controls",
            "children": [
              "IPY_MODEL_716ac79b80494d5ebd0b5d377d29f621",
              "IPY_MODEL_f567629a896544a2a0f254f94bc8f655"
            ]
          },
          "model_module_version": "1.5.0"
        },
        "6a6ff863907446f0a5876601dff72ac7": {
          "model_module": "@jupyter-widgets/base",
          "model_name": "LayoutModel",
          "state": {
            "_view_name": "LayoutView",
            "grid_template_rows": null,
            "right": null,
            "justify_content": null,
            "_view_module": "@jupyter-widgets/base",
            "overflow": null,
            "_model_module_version": "1.2.0",
            "_view_count": null,
            "flex_flow": null,
            "width": null,
            "min_width": null,
            "border": null,
            "align_items": null,
            "bottom": null,
            "_model_module": "@jupyter-widgets/base",
            "top": null,
            "grid_column": null,
            "overflow_y": null,
            "overflow_x": null,
            "grid_auto_flow": null,
            "grid_area": null,
            "grid_template_columns": null,
            "flex": null,
            "_model_name": "LayoutModel",
            "justify_items": null,
            "grid_row": null,
            "max_height": null,
            "align_content": null,
            "visibility": null,
            "align_self": null,
            "height": null,
            "min_height": null,
            "padding": null,
            "grid_auto_rows": null,
            "grid_gap": null,
            "max_width": null,
            "order": null,
            "_view_module_version": "1.2.0",
            "grid_template_areas": null,
            "object_position": null,
            "object_fit": null,
            "grid_auto_columns": null,
            "margin": null,
            "display": null,
            "left": null
          },
          "model_module_version": "1.2.0"
        },
        "716ac79b80494d5ebd0b5d377d29f621": {
          "model_module": "@jupyter-widgets/controls",
          "model_name": "FloatProgressModel",
          "state": {
            "_view_name": "ProgressView",
            "style": "IPY_MODEL_871f1adac785495ab71089ea99566ddf",
            "_dom_classes": [],
            "description": "Downloading: 100%",
            "_model_name": "FloatProgressModel",
            "bar_style": "success",
            "max": 440473133,
            "_view_module": "@jupyter-widgets/controls",
            "_model_module_version": "1.5.0",
            "value": 440473133,
            "_view_count": null,
            "_view_module_version": "1.5.0",
            "orientation": "horizontal",
            "min": 0,
            "description_tooltip": null,
            "_model_module": "@jupyter-widgets/controls",
            "layout": "IPY_MODEL_a9044f2d27e14ab9b0408253e5918f51"
          },
          "model_module_version": "1.5.0"
        },
        "f567629a896544a2a0f254f94bc8f655": {
          "model_module": "@jupyter-widgets/controls",
          "model_name": "HTMLModel",
          "state": {
            "_view_name": "HTMLView",
            "style": "IPY_MODEL_063ccccb92434450a37d9569920ca3cb",
            "_dom_classes": [],
            "description": "",
            "_model_name": "HTMLModel",
            "placeholder": "​",
            "_view_module": "@jupyter-widgets/controls",
            "_model_module_version": "1.5.0",
            "value": " 440M/440M [00:05&lt;00:00, 76.8MB/s]",
            "_view_count": null,
            "_view_module_version": "1.5.0",
            "description_tooltip": null,
            "_model_module": "@jupyter-widgets/controls",
            "layout": "IPY_MODEL_309aeaeb34e3498c97eb03daa0f7b577"
          },
          "model_module_version": "1.5.0"
        },
        "871f1adac785495ab71089ea99566ddf": {
          "model_module": "@jupyter-widgets/controls",
          "model_name": "ProgressStyleModel",
          "state": {
            "_view_name": "StyleView",
            "_model_name": "ProgressStyleModel",
            "description_width": "initial",
            "_view_module": "@jupyter-widgets/base",
            "_model_module_version": "1.5.0",
            "_view_count": null,
            "_view_module_version": "1.2.0",
            "bar_color": null,
            "_model_module": "@jupyter-widgets/controls"
          },
          "model_module_version": "1.5.0"
        },
        "a9044f2d27e14ab9b0408253e5918f51": {
          "model_module": "@jupyter-widgets/base",
          "model_name": "LayoutModel",
          "state": {
            "_view_name": "LayoutView",
            "grid_template_rows": null,
            "right": null,
            "justify_content": null,
            "_view_module": "@jupyter-widgets/base",
            "overflow": null,
            "_model_module_version": "1.2.0",
            "_view_count": null,
            "flex_flow": null,
            "width": null,
            "min_width": null,
            "border": null,
            "align_items": null,
            "bottom": null,
            "_model_module": "@jupyter-widgets/base",
            "top": null,
            "grid_column": null,
            "overflow_y": null,
            "overflow_x": null,
            "grid_auto_flow": null,
            "grid_area": null,
            "grid_template_columns": null,
            "flex": null,
            "_model_name": "LayoutModel",
            "justify_items": null,
            "grid_row": null,
            "max_height": null,
            "align_content": null,
            "visibility": null,
            "align_self": null,
            "height": null,
            "min_height": null,
            "padding": null,
            "grid_auto_rows": null,
            "grid_gap": null,
            "max_width": null,
            "order": null,
            "_view_module_version": "1.2.0",
            "grid_template_areas": null,
            "object_position": null,
            "object_fit": null,
            "grid_auto_columns": null,
            "margin": null,
            "display": null,
            "left": null
          },
          "model_module_version": "1.2.0"
        },
        "063ccccb92434450a37d9569920ca3cb": {
          "model_module": "@jupyter-widgets/controls",
          "model_name": "DescriptionStyleModel",
          "state": {
            "_view_name": "StyleView",
            "_model_name": "DescriptionStyleModel",
            "description_width": "",
            "_view_module": "@jupyter-widgets/base",
            "_model_module_version": "1.5.0",
            "_view_count": null,
            "_view_module_version": "1.2.0",
            "_model_module": "@jupyter-widgets/controls"
          },
          "model_module_version": "1.5.0"
        },
        "309aeaeb34e3498c97eb03daa0f7b577": {
          "model_module": "@jupyter-widgets/base",
          "model_name": "LayoutModel",
          "state": {
            "_view_name": "LayoutView",
            "grid_template_rows": null,
            "right": null,
            "justify_content": null,
            "_view_module": "@jupyter-widgets/base",
            "overflow": null,
            "_model_module_version": "1.2.0",
            "_view_count": null,
            "flex_flow": null,
            "width": null,
            "min_width": null,
            "border": null,
            "align_items": null,
            "bottom": null,
            "_model_module": "@jupyter-widgets/base",
            "top": null,
            "grid_column": null,
            "overflow_y": null,
            "overflow_x": null,
            "grid_auto_flow": null,
            "grid_area": null,
            "grid_template_columns": null,
            "flex": null,
            "_model_name": "LayoutModel",
            "justify_items": null,
            "grid_row": null,
            "max_height": null,
            "align_content": null,
            "visibility": null,
            "align_self": null,
            "height": null,
            "min_height": null,
            "padding": null,
            "grid_auto_rows": null,
            "grid_gap": null,
            "max_width": null,
            "order": null,
            "_view_module_version": "1.2.0",
            "grid_template_areas": null,
            "object_position": null,
            "object_fit": null,
            "grid_auto_columns": null,
            "margin": null,
            "display": null,
            "left": null
          },
          "model_module_version": "1.2.0"
        }
      }
    }
  },
  "cells": [
    {
      "cell_type": "markdown",
      "metadata": {
        "id": "view-in-github",
        "colab_type": "text"
      },
      "source": [
        "<a href=\"https://colab.research.google.com/github/amirmahdiKhosravi/SENTENCE-LEVEL-SENTIMENT-ANALYSIS/blob/main/950122681013_KhosraviTabrizi.ipynb\" target=\"_parent\"><img src=\"https://colab.research.google.com/assets/colab-badge.svg\" alt=\"Open In Colab\"/></a>"
      ]
    },
    {
      "cell_type": "markdown",
      "metadata": {
        "id": "iiWwq2Q-sEj4"
      },
      "source": [
        "# **Sentence-level Sentiment Analysis on \"Software Dataset\" from \"Amazon Review Data\":**\n",
        "\n",
        "**Final project of DataMining Course from Univesity of Guilan**\n",
        "\n",
        "Student: Amirmahdi Khosravi Tabrizi\n",
        "\n",
        "Student ID: 950122681013\n",
        "\n",
        "Professor: Javad PourMostafa"
      ]
    },
    {
      "cell_type": "markdown",
      "metadata": {
        "id": "2vz1dNSGxZrm"
      },
      "source": [
        "### **Importing libreries:**\n"
      ]
    },
    {
      "cell_type": "code",
      "metadata": {
        "id": "-q9R79QSnlT-",
        "colab": {
          "base_uri": "https://localhost:8080/",
          "height": 697
        },
        "outputId": "9a4c29ae-de83-414e-bac2-d0a795b606a1"
      },
      "source": [
        "import pandas as pd\n",
        "import numpy as np\n",
        "import gzip\n",
        "import json\n",
        "import nltk\n",
        "nltk.download('stopwords')\n",
        "nltk.download('punkt')\n",
        "from nltk.corpus import stopwords\n",
        "from nltk.tokenize import word_tokenize\n",
        "import re\n",
        "#embedding:\n",
        "!pip install transformers\n",
        "import torch\n",
        "import transformers as ppb\n",
        "# classification:\n",
        "from sklearn.naive_bayes import GaussianNB\n",
        "from sklearn import svm\n",
        "from sklearn.linear_model import LogisticRegression\n",
        "\n",
        "from sklearn.metrics import f1_score\n",
        "import matplotlib.pyplot as plt"
      ],
      "execution_count": null,
      "outputs": [
        {
          "output_type": "stream",
          "text": [
            "[nltk_data] Downloading package stopwords to /root/nltk_data...\n",
            "[nltk_data]   Unzipping corpora/stopwords.zip.\n",
            "[nltk_data] Downloading package punkt to /root/nltk_data...\n",
            "[nltk_data]   Unzipping tokenizers/punkt.zip.\n",
            "Collecting transformers\n",
            "\u001b[?25l  Downloading https://files.pythonhosted.org/packages/27/3c/91ed8f5c4e7ef3227b4119200fc0ed4b4fd965b1f0172021c25701087825/transformers-3.0.2-py3-none-any.whl (769kB)\n",
            "\u001b[K     |████████████████████████████████| 778kB 9.4MB/s \n",
            "\u001b[?25hRequirement already satisfied: numpy in /usr/local/lib/python3.6/dist-packages (from transformers) (1.18.5)\n",
            "Collecting sacremoses\n",
            "\u001b[?25l  Downloading https://files.pythonhosted.org/packages/7d/34/09d19aff26edcc8eb2a01bed8e98f13a1537005d31e95233fd48216eed10/sacremoses-0.0.43.tar.gz (883kB)\n",
            "\u001b[K     |████████████████████████████████| 890kB 29.1MB/s \n",
            "\u001b[?25hRequirement already satisfied: packaging in /usr/local/lib/python3.6/dist-packages (from transformers) (20.4)\n",
            "Requirement already satisfied: requests in /usr/local/lib/python3.6/dist-packages (from transformers) (2.23.0)\n",
            "Requirement already satisfied: dataclasses; python_version < \"3.7\" in /usr/local/lib/python3.6/dist-packages (from transformers) (0.7)\n",
            "Collecting tokenizers==0.8.1.rc1\n",
            "\u001b[?25l  Downloading https://files.pythonhosted.org/packages/40/d0/30d5f8d221a0ed981a186c8eb986ce1c94e3a6e87f994eae9f4aa5250217/tokenizers-0.8.1rc1-cp36-cp36m-manylinux1_x86_64.whl (3.0MB)\n",
            "\u001b[K     |████████████████████████████████| 3.0MB 58.6MB/s \n",
            "\u001b[?25hRequirement already satisfied: regex!=2019.12.17 in /usr/local/lib/python3.6/dist-packages (from transformers) (2019.12.20)\n",
            "Collecting sentencepiece!=0.1.92\n",
            "\u001b[?25l  Downloading https://files.pythonhosted.org/packages/d4/a4/d0a884c4300004a78cca907a6ff9a5e9fe4f090f5d95ab341c53d28cbc58/sentencepiece-0.1.91-cp36-cp36m-manylinux1_x86_64.whl (1.1MB)\n",
            "\u001b[K     |████████████████████████████████| 1.1MB 57.7MB/s \n",
            "\u001b[?25hRequirement already satisfied: tqdm>=4.27 in /usr/local/lib/python3.6/dist-packages (from transformers) (4.41.1)\n",
            "Requirement already satisfied: filelock in /usr/local/lib/python3.6/dist-packages (from transformers) (3.0.12)\n",
            "Requirement already satisfied: six in /usr/local/lib/python3.6/dist-packages (from sacremoses->transformers) (1.12.0)\n",
            "Requirement already satisfied: click in /usr/local/lib/python3.6/dist-packages (from sacremoses->transformers) (7.1.2)\n",
            "Requirement already satisfied: joblib in /usr/local/lib/python3.6/dist-packages (from sacremoses->transformers) (0.15.1)\n",
            "Requirement already satisfied: pyparsing>=2.0.2 in /usr/local/lib/python3.6/dist-packages (from packaging->transformers) (2.4.7)\n",
            "Requirement already satisfied: chardet<4,>=3.0.2 in /usr/local/lib/python3.6/dist-packages (from requests->transformers) (3.0.4)\n",
            "Requirement already satisfied: certifi>=2017.4.17 in /usr/local/lib/python3.6/dist-packages (from requests->transformers) (2020.6.20)\n",
            "Requirement already satisfied: idna<3,>=2.5 in /usr/local/lib/python3.6/dist-packages (from requests->transformers) (2.9)\n",
            "Requirement already satisfied: urllib3!=1.25.0,!=1.25.1,<1.26,>=1.21.1 in /usr/local/lib/python3.6/dist-packages (from requests->transformers) (1.24.3)\n",
            "Building wheels for collected packages: sacremoses\n",
            "  Building wheel for sacremoses (setup.py) ... \u001b[?25l\u001b[?25hdone\n",
            "  Created wheel for sacremoses: filename=sacremoses-0.0.43-cp36-none-any.whl size=893260 sha256=4e2590f26965846fab4dd02b698bfafd39c7f68c0f242ddb93b324199ca314dd\n",
            "  Stored in directory: /root/.cache/pip/wheels/29/3c/fd/7ce5c3f0666dab31a50123635e6fb5e19ceb42ce38d4e58f45\n",
            "Successfully built sacremoses\n",
            "Installing collected packages: sacremoses, tokenizers, sentencepiece, transformers\n",
            "Successfully installed sacremoses-0.0.43 sentencepiece-0.1.91 tokenizers-0.8.1rc1 transformers-3.0.2\n"
          ],
          "name": "stdout"
        }
      ]
    },
    {
      "cell_type": "markdown",
      "metadata": {
        "id": "avXmpeJnFA_A"
      },
      "source": [
        "**Here it is the list of Data Sets you can use: ( Default Data Set is \"Software\")**\n",
        "\n",
        "\n",
        "1.   Amazon Fashion **(3,176 reviews)**\n",
        "2.   All Beauty **(5,269 reviews)**\n",
        "3.   Appliances **(2,277 reviews)**\n",
        "4.   Arts, Crafts and Sewing **(494,485 reviews)**\n",
        "5.   Automotive **(1,711,519 reviews)**\n",
        "6.   Books **(27,164,983 reviews)**\n",
        "7.   CDs and Vinyl **(1,443,755 reviews)**\n",
        "8.   Cell Phones and Accessories **(1,128,437 reviews)**\n",
        "9.   Clothing, Shoes and Jewelry **(11,285,464 reviews)**\n",
        "10.  Digital Music **(169,781 reviews)**\n",
        "11.  Electronics **(6,739,590 reviews)**\n",
        "12.  Gift Cards **(2,972 reviews)**\n",
        "13.  Grocery and Gourmet Food **(1,143,860 reviews)**\n",
        "14.  Home and Kitchen **(6,898,955 reviews)**\n",
        "15.  Industrial and Scientific **(77,071 reviews)**\n",
        "16.  Kindle Store **(2,222,983 reviews)**\n",
        "17.  Luxury Beauty **(34,278 reviews)**\n",
        "18.  Magazine Subscriptions **(2,375 reviews)**\n",
        "19.  Movies and TV **(3,410,019 reviews)**\n",
        "20.  Musical Instruments **(231,392 reviews)**\n",
        "21.  Office Products **(800,357 reviews)**\n",
        "22.  Patio, Lawn and Garden **(798,415 reviews)**\n",
        "23.  Pet Supplies **(2,098,325 reviews)**\n",
        "24.  Prime Pantry **(137,788 reviews)**\n",
        "25.  ***Software*** **(12,805 reviews)** <<<================== **MY CHOISE**\n",
        "26.  Sports and Outdoors **(2,839,940 reviews)**\n",
        "27. Tools and Home Improvement **(2,070,831 reviews)**\n",
        "28.  Toys and Games **(1,828,971 reviews)**\n",
        "29.  Video Games **(497,577 reviews)**\n"
      ]
    },
    {
      "cell_type": "code",
      "metadata": {
        "id": "mEAo0AJPNPsF",
        "colab": {
          "base_uri": "https://localhost:8080/",
          "height": 69
        },
        "outputId": "00b9ef6b-5af1-4642-a95e-312c9496bcb4"
      },
      "source": [
        "print('Please use the list above and enter the ID of deta set you want to use (for default data set, leave it blank and press ENTER):')\n",
        "dataset = input()\n",
        "if dataset == '':\n",
        "  dataset = '25'\n",
        "print('Data set ID: {}'.format(dataset))"
      ],
      "execution_count": null,
      "outputs": [
        {
          "output_type": "stream",
          "text": [
            "Please use the list above and enter the ID of deta set you want to use (for default data set, leave it blank and press ENTER):\n",
            "\n",
            "Data set ID: 25\n"
          ],
          "name": "stdout"
        }
      ]
    },
    {
      "cell_type": "markdown",
      "metadata": {
        "id": "yfXRPCrhx8US"
      },
      "source": [
        "\n",
        "\n",
        "###     **First Phase (Importing the DS):**\n",
        "1. Download and import \"Software_5.json.gz\" dataset from [Amazon Review Data (2018)](https://nijianmo.github.io/amazon/).\n",
        "2. Print first five records of dataset.\n",
        "3. Print the shape of dataframe.\n",
        "\n",
        "\n",
        "\n",
        "\n",
        "\n",
        "\n"
      ]
    },
    {
      "cell_type": "code",
      "metadata": {
        "id": "l1Fufob2QrPZ"
      },
      "source": [
        "# Geting link and file's name of selected Data Set with the help of Switch_Case :\n",
        "\n",
        "def switch_case(switch):\n",
        "  dic = {1:'http://deepyeti.ucsd.edu/jianmo/amazon/categoryFilesSmall/AMAZON_FASHION_5.json.gz', 2:'http://deepyeti.ucsd.edu/jianmo/amazon/categoryFilesSmall/All_Beauty_5.json.gz',\n",
        "         3:'http://deepyeti.ucsd.edu/jianmo/amazon/categoryFilesSmall/Appliances_5.json.gz', 4:'http://deepyeti.ucsd.edu/jianmo/amazon/categoryFilesSmall/Arts_Crafts_and_Sewing_5.json.gz',\n",
        "         5:'http://deepyeti.ucsd.edu/jianmo/amazon/categoryFilesSmall/Automotive_5.json.gz', 6:'http://deepyeti.ucsd.edu/jianmo/amazon/categoryFilesSmall/Books_5.json.gz',\n",
        "         7:'http://deepyeti.ucsd.edu/jianmo/amazon/categoryFilesSmall/CDs_and_Vinyl_5.json.gz', 8:'http://deepyeti.ucsd.edu/jianmo/amazon/categoryFilesSmall/Cell_Phones_and_Accessories_5.json.gz',\n",
        "         9:'http://deepyeti.ucsd.edu/jianmo/amazon/categoryFilesSmall/Clothing_Shoes_and_Jewelry_5.json.gz',\n",
        "         10:'http://deepyeti.ucsd.edu/jianmo/amazon/categoryFilesSmall/Digital_Music_5.json.gz', 11:'http://deepyeti.ucsd.edu/jianmo/amazon/categoryFilesSmall/Electronics_5.json.gz',\n",
        "         12:'http://deepyeti.ucsd.edu/jianmo/amazon/categoryFilesSmall/Gift_Cards_5.json.gz', 13:'http://deepyeti.ucsd.edu/jianmo/amazon/categoryFilesSmall/Grocery_and_Gourmet_Food_5.json.gz',\n",
        "         14:'http://deepyeti.ucsd.edu/jianmo/amazon/categoryFilesSmall/Home_and_Kitchen_5.json.gz', 15:'http://deepyeti.ucsd.edu/jianmo/amazon/categoryFilesSmall/Industrial_and_Scientific_5.json.gz',\n",
        "         16:'http://deepyeti.ucsd.edu/jianmo/amazon/categoryFilesSmall/Kindle_Store_5.json.gz', 17:'http://deepyeti.ucsd.edu/jianmo/amazon/categoryFilesSmall/Luxury_Beauty_5.json.gz',\n",
        "         18:'http://deepyeti.ucsd.edu/jianmo/amazon/categoryFilesSmall/Magazine_Subscriptions_5.json.gz', 19:'http://deepyeti.ucsd.edu/jianmo/amazon/categoryFilesSmall/Movies_and_TV_5.json.gz',\n",
        "         20:'http://deepyeti.ucsd.edu/jianmo/amazon/categoryFilesSmall/Musical_Instruments_5.json.gz', 21:'http://deepyeti.ucsd.edu/jianmo/amazon/categoryFilesSmall/Office_Products_5.json.gz',\n",
        "         22:'http://deepyeti.ucsd.edu/jianmo/amazon/categoryFilesSmall/Patio_Lawn_and_Garden_5.json.gz', 23:'http://deepyeti.ucsd.edu/jianmo/amazon/categoryFilesSmall/Pet_Supplies_5.json.gz',\n",
        "         24:'http://deepyeti.ucsd.edu/jianmo/amazon/categoryFilesSmall/Prime_Pantry_5.json.gz', 25:'http://deepyeti.ucsd.edu/jianmo/amazon/categoryFilesSmall/Software_5.json.gz',\n",
        "         26:'http://deepyeti.ucsd.edu/jianmo/amazon/categoryFilesSmall/Sports_and_Outdoors_5.json.gz', 27:'http://deepyeti.ucsd.edu/jianmo/amazon/categoryFilesSmall/Tools_and_Home_Improvement_5.json.gz',\n",
        "         28:'http://deepyeti.ucsd.edu/jianmo/amazon/categoryFilesSmall/Toys_and_Games_5.json.gz', 29:'http://deepyeti.ucsd.edu/jianmo/amazon/categoryFilesSmall/Video_Games_5.json.gz'}\n",
        "\n",
        "  link = dic.get(switch, 'http://deepyeti.ucsd.edu/jianmo/amazon/categoryFilesSmall/Software_5.json.gz')\n",
        "  return link\n",
        "\n",
        "link = switch_case(int(dataset))\n",
        "file_name = link.split('/')[-1]"
      ],
      "execution_count": null,
      "outputs": []
    },
    {
      "cell_type": "code",
      "metadata": {
        "id": "DT_uQt8AbccD",
        "colab": {
          "base_uri": "https://localhost:8080/",
          "height": 52
        },
        "outputId": "d75cf6b7-c1f3-41b5-f02f-cb6c068976f6"
      },
      "source": [
        "print('Data Set link: {}'.format(link))\n",
        "print('Name of file: {}'.format(file_name))"
      ],
      "execution_count": null,
      "outputs": [
        {
          "output_type": "stream",
          "text": [
            "Data Set link: http://deepyeti.ucsd.edu/jianmo/amazon/categoryFilesSmall/Software_5.json.gz\n",
            "Name of file: Software_5.json.gz\n"
          ],
          "name": "stdout"
        }
      ]
    },
    {
      "cell_type": "code",
      "metadata": {
        "id": "midyrA5OtYEL",
        "colab": {
          "base_uri": "https://localhost:8080/",
          "height": 797
        },
        "outputId": "5405899c-b899-4746-e96a-86ab420ce432"
      },
      "source": [
        "# Downloading dataset:\n",
        "!wget $link\n",
        "\n",
        "# Functions wich had given by site itself to open \"Software_5.json.gz\":\n",
        "def parse(path):\n",
        "  g = gzip.open(path, 'rb')\n",
        "  for l in g:\n",
        "    yield json.loads(l)\n",
        "\n",
        "def getDF(path):\n",
        "  i = 0\n",
        "  df = {}\n",
        "  for d in parse(path):\n",
        "    df[i] = d\n",
        "    i += 1\n",
        "  return pd.DataFrame.from_dict(df, orient='index')\n",
        "\n",
        "df = getDF(file_name)\n",
        "print('\\n' + '************************************************* PAY ATTENTION BELOW ****************************************************' + '\\n')\n",
        "print('number of rows: {}'.format(len(df)), '\\n' + 'number of columns: {}'.format(len(df.columns)) + '\\n')\n",
        "df.iloc[:5]"
      ],
      "execution_count": null,
      "outputs": [
        {
          "output_type": "stream",
          "text": [
            "--2020-07-11 13:48:01--  http://deepyeti.ucsd.edu/jianmo/amazon/categoryFilesSmall/Software_5.json.gz\n",
            "Resolving deepyeti.ucsd.edu (deepyeti.ucsd.edu)... 169.228.63.50\n",
            "Connecting to deepyeti.ucsd.edu (deepyeti.ucsd.edu)|169.228.63.50|:80... connected.\n",
            "HTTP request sent, awaiting response... 200 OK\n",
            "Length: 5339013 (5.1M) [application/octet-stream]\n",
            "Saving to: ‘Software_5.json.gz’\n",
            "\n",
            "Software_5.json.gz  100%[===================>]   5.09M  4.50MB/s    in 1.1s    \n",
            "\n",
            "2020-07-11 13:48:03 (4.50 MB/s) - ‘Software_5.json.gz’ saved [5339013/5339013]\n",
            "\n",
            "\n",
            "************************************************* PAY ATTENTION BELOW ****************************************************\n",
            "\n",
            "number of rows: 12805 \n",
            "number of columns: 12\n",
            "\n"
          ],
          "name": "stdout"
        },
        {
          "output_type": "execute_result",
          "data": {
            "text/html": [
              "<div>\n",
              "<style scoped>\n",
              "    .dataframe tbody tr th:only-of-type {\n",
              "        vertical-align: middle;\n",
              "    }\n",
              "\n",
              "    .dataframe tbody tr th {\n",
              "        vertical-align: top;\n",
              "    }\n",
              "\n",
              "    .dataframe thead th {\n",
              "        text-align: right;\n",
              "    }\n",
              "</style>\n",
              "<table border=\"1\" class=\"dataframe\">\n",
              "  <thead>\n",
              "    <tr style=\"text-align: right;\">\n",
              "      <th></th>\n",
              "      <th>overall</th>\n",
              "      <th>verified</th>\n",
              "      <th>reviewTime</th>\n",
              "      <th>reviewerID</th>\n",
              "      <th>asin</th>\n",
              "      <th>style</th>\n",
              "      <th>reviewerName</th>\n",
              "      <th>reviewText</th>\n",
              "      <th>summary</th>\n",
              "      <th>unixReviewTime</th>\n",
              "      <th>vote</th>\n",
              "      <th>image</th>\n",
              "    </tr>\n",
              "  </thead>\n",
              "  <tbody>\n",
              "    <tr>\n",
              "      <th>0</th>\n",
              "      <td>4.0</td>\n",
              "      <td>False</td>\n",
              "      <td>10 20, 2010</td>\n",
              "      <td>A38NELQT98S4H8</td>\n",
              "      <td>0321719816</td>\n",
              "      <td>{'Format:': ' DVD-ROM'}</td>\n",
              "      <td>WB Halper</td>\n",
              "      <td>I've been using Dreamweaver (and it's predeces...</td>\n",
              "      <td>A solid overview of Dreamweaver CS5</td>\n",
              "      <td>1287532800</td>\n",
              "      <td>NaN</td>\n",
              "      <td>NaN</td>\n",
              "    </tr>\n",
              "    <tr>\n",
              "      <th>1</th>\n",
              "      <td>4.0</td>\n",
              "      <td>False</td>\n",
              "      <td>10 18, 2010</td>\n",
              "      <td>A3QJU4FEN8PQSZ</td>\n",
              "      <td>0321719816</td>\n",
              "      <td>{'Format:': ' DVD-ROM'}</td>\n",
              "      <td>Grimmy</td>\n",
              "      <td>The demo is done with the PC version, with ref...</td>\n",
              "      <td>A good value</td>\n",
              "      <td>1287360000</td>\n",
              "      <td>NaN</td>\n",
              "      <td>NaN</td>\n",
              "    </tr>\n",
              "    <tr>\n",
              "      <th>2</th>\n",
              "      <td>5.0</td>\n",
              "      <td>False</td>\n",
              "      <td>10 16, 2010</td>\n",
              "      <td>ACJT8MUC0LRF0</td>\n",
              "      <td>0321719816</td>\n",
              "      <td>{'Format:': ' DVD-ROM'}</td>\n",
              "      <td>D. Fowler</td>\n",
              "      <td>If you've been wanting to learn how to create ...</td>\n",
              "      <td>This is excellent software for those who want ...</td>\n",
              "      <td>1287187200</td>\n",
              "      <td>3</td>\n",
              "      <td>NaN</td>\n",
              "    </tr>\n",
              "    <tr>\n",
              "      <th>3</th>\n",
              "      <td>5.0</td>\n",
              "      <td>False</td>\n",
              "      <td>10 12, 2010</td>\n",
              "      <td>AYUF7YETYOLNX</td>\n",
              "      <td>0321719816</td>\n",
              "      <td>{'Format:': ' DVD-ROM'}</td>\n",
              "      <td>Bryan Newman</td>\n",
              "      <td>I've been creating websites with Dreamweaver f...</td>\n",
              "      <td>A Fantastic Overview of Dream Weaver and Web D...</td>\n",
              "      <td>1286841600</td>\n",
              "      <td>NaN</td>\n",
              "      <td>NaN</td>\n",
              "    </tr>\n",
              "    <tr>\n",
              "      <th>4</th>\n",
              "      <td>5.0</td>\n",
              "      <td>False</td>\n",
              "      <td>10 7, 2010</td>\n",
              "      <td>A31ICLWQ9CSHRS</td>\n",
              "      <td>0321719816</td>\n",
              "      <td>{'Format:': ' DVD-ROM'}</td>\n",
              "      <td>Al Swanson</td>\n",
              "      <td>I decided (after trying a number of other prod...</td>\n",
              "      <td>Excellent Tutorials!</td>\n",
              "      <td>1286409600</td>\n",
              "      <td>NaN</td>\n",
              "      <td>NaN</td>\n",
              "    </tr>\n",
              "  </tbody>\n",
              "</table>\n",
              "</div>"
            ],
            "text/plain": [
              "   overall  verified   reviewTime  ... unixReviewTime vote image\n",
              "0      4.0     False  10 20, 2010  ...     1287532800  NaN   NaN\n",
              "1      4.0     False  10 18, 2010  ...     1287360000  NaN   NaN\n",
              "2      5.0     False  10 16, 2010  ...     1287187200    3   NaN\n",
              "3      5.0     False  10 12, 2010  ...     1286841600  NaN   NaN\n",
              "4      5.0     False   10 7, 2010  ...     1286409600  NaN   NaN\n",
              "\n",
              "[5 rows x 12 columns]"
            ]
          },
          "metadata": {
            "tags": []
          },
          "execution_count": 5
        }
      ]
    },
    {
      "cell_type": "markdown",
      "metadata": {
        "id": "pPNk2s6C1jhL"
      },
      "source": [
        "###   **Second Phase ( Data Pre-processing ):**\n",
        "1.   selecting \"overall\" and \"reviewText\" columns to remain.\n",
        "2.   removing stopwords.\n",
        "\n"
      ]
    },
    {
      "cell_type": "code",
      "metadata": {
        "id": "Bf8VaPrztajv",
        "colab": {
          "base_uri": "https://localhost:8080/",
          "height": 424
        },
        "outputId": "1e195b7b-c105-46f2-8f4c-4d24c42bde44"
      },
      "source": [
        "# selecting \"overall\" and \"reviewText\" columns to remain:\n",
        "main_df = df.copy()\n",
        "df = df[['overall', 'reviewText']]\n",
        "df"
      ],
      "execution_count": null,
      "outputs": [
        {
          "output_type": "execute_result",
          "data": {
            "text/html": [
              "<div>\n",
              "<style scoped>\n",
              "    .dataframe tbody tr th:only-of-type {\n",
              "        vertical-align: middle;\n",
              "    }\n",
              "\n",
              "    .dataframe tbody tr th {\n",
              "        vertical-align: top;\n",
              "    }\n",
              "\n",
              "    .dataframe thead th {\n",
              "        text-align: right;\n",
              "    }\n",
              "</style>\n",
              "<table border=\"1\" class=\"dataframe\">\n",
              "  <thead>\n",
              "    <tr style=\"text-align: right;\">\n",
              "      <th></th>\n",
              "      <th>overall</th>\n",
              "      <th>reviewText</th>\n",
              "    </tr>\n",
              "  </thead>\n",
              "  <tbody>\n",
              "    <tr>\n",
              "      <th>0</th>\n",
              "      <td>4.0</td>\n",
              "      <td>I've been using Dreamweaver (and it's predeces...</td>\n",
              "    </tr>\n",
              "    <tr>\n",
              "      <th>1</th>\n",
              "      <td>4.0</td>\n",
              "      <td>The demo is done with the PC version, with ref...</td>\n",
              "    </tr>\n",
              "    <tr>\n",
              "      <th>2</th>\n",
              "      <td>5.0</td>\n",
              "      <td>If you've been wanting to learn how to create ...</td>\n",
              "    </tr>\n",
              "    <tr>\n",
              "      <th>3</th>\n",
              "      <td>5.0</td>\n",
              "      <td>I've been creating websites with Dreamweaver f...</td>\n",
              "    </tr>\n",
              "    <tr>\n",
              "      <th>4</th>\n",
              "      <td>5.0</td>\n",
              "      <td>I decided (after trying a number of other prod...</td>\n",
              "    </tr>\n",
              "    <tr>\n",
              "      <th>...</th>\n",
              "      <td>...</td>\n",
              "      <td>...</td>\n",
              "    </tr>\n",
              "    <tr>\n",
              "      <th>12800</th>\n",
              "      <td>4.0</td>\n",
              "      <td>When I ordered this it was listed as Photo Edi...</td>\n",
              "    </tr>\n",
              "    <tr>\n",
              "      <th>12801</th>\n",
              "      <td>3.0</td>\n",
              "      <td>This software has SO much going on.  Theres a ...</td>\n",
              "    </tr>\n",
              "    <tr>\n",
              "      <th>12802</th>\n",
              "      <td>4.0</td>\n",
              "      <td>I have used both more complex and less complex...</td>\n",
              "    </tr>\n",
              "    <tr>\n",
              "      <th>12803</th>\n",
              "      <td>3.0</td>\n",
              "      <td>Pinnacle Studio 20 Ultimate is a perfectly ser...</td>\n",
              "    </tr>\n",
              "    <tr>\n",
              "      <th>12804</th>\n",
              "      <td>4.0</td>\n",
              "      <td>A program that is fairly easy to use and provi...</td>\n",
              "    </tr>\n",
              "  </tbody>\n",
              "</table>\n",
              "<p>12805 rows × 2 columns</p>\n",
              "</div>"
            ],
            "text/plain": [
              "       overall                                         reviewText\n",
              "0          4.0  I've been using Dreamweaver (and it's predeces...\n",
              "1          4.0  The demo is done with the PC version, with ref...\n",
              "2          5.0  If you've been wanting to learn how to create ...\n",
              "3          5.0  I've been creating websites with Dreamweaver f...\n",
              "4          5.0  I decided (after trying a number of other prod...\n",
              "...        ...                                                ...\n",
              "12800      4.0  When I ordered this it was listed as Photo Edi...\n",
              "12801      3.0  This software has SO much going on.  Theres a ...\n",
              "12802      4.0  I have used both more complex and less complex...\n",
              "12803      3.0  Pinnacle Studio 20 Ultimate is a perfectly ser...\n",
              "12804      4.0  A program that is fairly easy to use and provi...\n",
              "\n",
              "[12805 rows x 2 columns]"
            ]
          },
          "metadata": {
            "tags": []
          },
          "execution_count": 6
        }
      ]
    },
    {
      "cell_type": "code",
      "metadata": {
        "id": "0PkJHwnm6Fnw",
        "colab": {
          "base_uri": "https://localhost:8080/",
          "height": 511
        },
        "outputId": "e2a40375-abee-4a3f-bc96-28bcc8cab6fe"
      },
      "source": [
        "# removing stopwords:\n",
        "\n",
        "# This function gets 'reviewText' column as 'series' and removes stopWords.\n",
        "def remove_stop_words(series):\n",
        "  not_to_remove = ['aren\\'t', 'can\\'t', 'couldn\\'t', 'daren\\'t', 'didn\\'t', 'doesn\\'t', 'don\\'t', 'hasn\\'t', 'haven\\'t', 'hadn\\'t', 'isn\\'t', 'mayn\\'t', 'mightn\\'t', 'mustn\\'t', 'needn\\'t', 'oughtn\\'t', 'shan\\'t', 'shouldn\\'t', 'wasn\\'t', 'weren\\'t', 'won\\'t', 'wouldn\\'t']\n",
        "\n",
        "  for i ,review in enumerate(series):\n",
        "    stop_words = set(stopwords.words('english'))                                # Geting the list of stopWords from 'nltk' library.\n",
        "    stop_words.update([w.capitalize() for w in stop_words])                     # Add captitalized stopWords to 'stop_words' list.\n",
        "    stop_words = [w for w in stop_words if not w in not_to_remove]              # Remove some words wich we need to remain in our text.\n",
        "    word_tokens = word_tokenize(str(review))                                    # Tokenize 'review' (our text)\n",
        "    filtered_sentence = [w for w in word_tokens if not w in stop_words]         # remove stopWords\n",
        "    filtered_sentence = ' '.join([i for i in filtered_sentence if not any(c.isdigit() for c in i) and i.isalnum()]) # Remove digits and other signs.\n",
        "    series[i] = filtered_sentence\n",
        "\n",
        "  return series\n",
        "\n",
        "main_df['summary'] = remove_stop_words(main_df['summary'])\n",
        "df['reviewText'] = remove_stop_words(df['reviewText'])\n",
        "df"
      ],
      "execution_count": null,
      "outputs": [
        {
          "output_type": "stream",
          "text": [
            "/usr/local/lib/python3.6/dist-packages/ipykernel_launcher.py:14: SettingWithCopyWarning: \n",
            "A value is trying to be set on a copy of a slice from a DataFrame\n",
            "\n",
            "See the caveats in the documentation: https://pandas.pydata.org/pandas-docs/stable/user_guide/indexing.html#returning-a-view-versus-a-copy\n",
            "  \n"
          ],
          "name": "stderr"
        },
        {
          "output_type": "execute_result",
          "data": {
            "text/html": [
              "<div>\n",
              "<style scoped>\n",
              "    .dataframe tbody tr th:only-of-type {\n",
              "        vertical-align: middle;\n",
              "    }\n",
              "\n",
              "    .dataframe tbody tr th {\n",
              "        vertical-align: top;\n",
              "    }\n",
              "\n",
              "    .dataframe thead th {\n",
              "        text-align: right;\n",
              "    }\n",
              "</style>\n",
              "<table border=\"1\" class=\"dataframe\">\n",
              "  <thead>\n",
              "    <tr style=\"text-align: right;\">\n",
              "      <th></th>\n",
              "      <th>overall</th>\n",
              "      <th>reviewText</th>\n",
              "    </tr>\n",
              "  </thead>\n",
              "  <tbody>\n",
              "    <tr>\n",
              "      <th>0</th>\n",
              "      <td>4.0</td>\n",
              "      <td>using Dreamweaver predecessor Macromedia Ultra...</td>\n",
              "    </tr>\n",
              "    <tr>\n",
              "      <th>1</th>\n",
              "      <td>4.0</td>\n",
              "      <td>demo done PC version references Mac version ne...</td>\n",
              "    </tr>\n",
              "    <tr>\n",
              "      <th>2</th>\n",
              "      <td>5.0</td>\n",
              "      <td>wanting learn create website either lacked con...</td>\n",
              "    </tr>\n",
              "    <tr>\n",
              "      <th>3</th>\n",
              "      <td>5.0</td>\n",
              "      <td>creating websites Dreamweaver years experience...</td>\n",
              "    </tr>\n",
              "    <tr>\n",
              "      <th>4</th>\n",
              "      <td>5.0</td>\n",
              "      <td>decided trying number products switch gold sta...</td>\n",
              "    </tr>\n",
              "    <tr>\n",
              "      <th>...</th>\n",
              "      <td>...</td>\n",
              "      <td>...</td>\n",
              "    </tr>\n",
              "    <tr>\n",
              "      <th>12800</th>\n",
              "      <td>4.0</td>\n",
              "      <td>ordered listed Photo Editing Software descript...</td>\n",
              "    </tr>\n",
              "    <tr>\n",
              "      <th>12801</th>\n",
              "      <td>3.0</td>\n",
              "      <td>software SO much going Theres plethora things ...</td>\n",
              "    </tr>\n",
              "    <tr>\n",
              "      <th>12802</th>\n",
              "      <td>4.0</td>\n",
              "      <td>used complex less complex software always retu...</td>\n",
              "    </tr>\n",
              "    <tr>\n",
              "      <th>12803</th>\n",
              "      <td>3.0</td>\n",
              "      <td>Pinnacle Studio Ultimate perfectly serviceable...</td>\n",
              "    </tr>\n",
              "    <tr>\n",
              "      <th>12804</th>\n",
              "      <td>4.0</td>\n",
              "      <td>program fairly easy use provides good results ...</td>\n",
              "    </tr>\n",
              "  </tbody>\n",
              "</table>\n",
              "<p>12805 rows × 2 columns</p>\n",
              "</div>"
            ],
            "text/plain": [
              "       overall                                         reviewText\n",
              "0          4.0  using Dreamweaver predecessor Macromedia Ultra...\n",
              "1          4.0  demo done PC version references Mac version ne...\n",
              "2          5.0  wanting learn create website either lacked con...\n",
              "3          5.0  creating websites Dreamweaver years experience...\n",
              "4          5.0  decided trying number products switch gold sta...\n",
              "...        ...                                                ...\n",
              "12800      4.0  ordered listed Photo Editing Software descript...\n",
              "12801      3.0  software SO much going Theres plethora things ...\n",
              "12802      4.0  used complex less complex software always retu...\n",
              "12803      3.0  Pinnacle Studio Ultimate perfectly serviceable...\n",
              "12804      4.0  program fairly easy use provides good results ...\n",
              "\n",
              "[12805 rows x 2 columns]"
            ]
          },
          "metadata": {
            "tags": []
          },
          "execution_count": 7
        }
      ]
    },
    {
      "cell_type": "markdown",
      "metadata": {
        "id": "zjcZ3l_mF8ST"
      },
      "source": [
        " ##  **Third Phase ( Data Splitting ):**\n",
        "**1.   Make \"Training Set\" and \"Test Set\" out of main Data Set.**\n",
        "\n"
      ]
    },
    {
      "cell_type": "code",
      "metadata": {
        "id": "p-I8bebPG7wa"
      },
      "source": [
        "training_set = df.iloc[:round(0.75*len(df))-1].reset_index()[['overall', 'reviewText']]       # Selecting about 3/4 of main Data Set as 'training_set'\n",
        "test_set = df.iloc[round(0.75*len(df))-1:].reset_index()[['overall', 'reviewText']]           # Selecting remaining 1/4 of main Data Set as 'test_set'"
      ],
      "execution_count": null,
      "outputs": []
    },
    {
      "cell_type": "code",
      "metadata": {
        "id": "gb0dFYbAJcKo",
        "colab": {
          "base_uri": "https://localhost:8080/",
          "height": 511
        },
        "outputId": "0bd5bb25-6df3-4c2a-c5f2-68857292d25a"
      },
      "source": [
        "# SHOW TIME FOR TRAINING SET ;)\n",
        "\n",
        "print('TRAINING SET:' + '\\n')\n",
        "print('number of rows:{}'.format(len(training_set)), '\\n' + 'number of columns:{}'.format(len(training_set.columns)) + '\\n')\n",
        "training_set"
      ],
      "execution_count": null,
      "outputs": [
        {
          "output_type": "stream",
          "text": [
            "TRAINING SET:\n",
            "\n",
            "number of rows:9603 \n",
            "number of columns:2\n",
            "\n"
          ],
          "name": "stdout"
        },
        {
          "output_type": "execute_result",
          "data": {
            "text/html": [
              "<div>\n",
              "<style scoped>\n",
              "    .dataframe tbody tr th:only-of-type {\n",
              "        vertical-align: middle;\n",
              "    }\n",
              "\n",
              "    .dataframe tbody tr th {\n",
              "        vertical-align: top;\n",
              "    }\n",
              "\n",
              "    .dataframe thead th {\n",
              "        text-align: right;\n",
              "    }\n",
              "</style>\n",
              "<table border=\"1\" class=\"dataframe\">\n",
              "  <thead>\n",
              "    <tr style=\"text-align: right;\">\n",
              "      <th></th>\n",
              "      <th>overall</th>\n",
              "      <th>reviewText</th>\n",
              "    </tr>\n",
              "  </thead>\n",
              "  <tbody>\n",
              "    <tr>\n",
              "      <th>0</th>\n",
              "      <td>4.0</td>\n",
              "      <td>using Dreamweaver predecessor Macromedia Ultra...</td>\n",
              "    </tr>\n",
              "    <tr>\n",
              "      <th>1</th>\n",
              "      <td>4.0</td>\n",
              "      <td>demo done PC version references Mac version ne...</td>\n",
              "    </tr>\n",
              "    <tr>\n",
              "      <th>2</th>\n",
              "      <td>5.0</td>\n",
              "      <td>wanting learn create website either lacked con...</td>\n",
              "    </tr>\n",
              "    <tr>\n",
              "      <th>3</th>\n",
              "      <td>5.0</td>\n",
              "      <td>creating websites Dreamweaver years experience...</td>\n",
              "    </tr>\n",
              "    <tr>\n",
              "      <th>4</th>\n",
              "      <td>5.0</td>\n",
              "      <td>decided trying number products switch gold sta...</td>\n",
              "    </tr>\n",
              "    <tr>\n",
              "      <th>...</th>\n",
              "      <td>...</td>\n",
              "      <td>...</td>\n",
              "    </tr>\n",
              "    <tr>\n",
              "      <th>9598</th>\n",
              "      <td>4.0</td>\n",
              "      <td>Times finally changed Mac users comes dictatio...</td>\n",
              "    </tr>\n",
              "    <tr>\n",
              "      <th>9599</th>\n",
              "      <td>3.0</td>\n",
              "      <td>nearly month high hopes software perhaps high ...</td>\n",
              "    </tr>\n",
              "    <tr>\n",
              "      <th>9600</th>\n",
              "      <td>4.0</td>\n",
              "      <td>used speech text product time last Dragon Dict...</td>\n",
              "    </tr>\n",
              "    <tr>\n",
              "      <th>9601</th>\n",
              "      <td>5.0</td>\n",
              "      <td>highly recommend product tried earlier generat...</td>\n",
              "    </tr>\n",
              "    <tr>\n",
              "      <th>9602</th>\n",
              "      <td>5.0</td>\n",
              "      <td>using Dragon Dictate least four years honestly...</td>\n",
              "    </tr>\n",
              "  </tbody>\n",
              "</table>\n",
              "<p>9603 rows × 2 columns</p>\n",
              "</div>"
            ],
            "text/plain": [
              "      overall                                         reviewText\n",
              "0         4.0  using Dreamweaver predecessor Macromedia Ultra...\n",
              "1         4.0  demo done PC version references Mac version ne...\n",
              "2         5.0  wanting learn create website either lacked con...\n",
              "3         5.0  creating websites Dreamweaver years experience...\n",
              "4         5.0  decided trying number products switch gold sta...\n",
              "...       ...                                                ...\n",
              "9598      4.0  Times finally changed Mac users comes dictatio...\n",
              "9599      3.0  nearly month high hopes software perhaps high ...\n",
              "9600      4.0  used speech text product time last Dragon Dict...\n",
              "9601      5.0  highly recommend product tried earlier generat...\n",
              "9602      5.0  using Dragon Dictate least four years honestly...\n",
              "\n",
              "[9603 rows x 2 columns]"
            ]
          },
          "metadata": {
            "tags": []
          },
          "execution_count": 9
        }
      ]
    },
    {
      "cell_type": "code",
      "metadata": {
        "id": "swFu4mvTJ_by",
        "colab": {
          "base_uri": "https://localhost:8080/",
          "height": 511
        },
        "outputId": "cd77122b-98c5-499b-f63d-c3c745f913f3"
      },
      "source": [
        "# SHOW TIME FOR TEST SET ;)\n",
        "\n",
        "print('TEST SET:' + '\\n')\n",
        "print('number of rows: {}'.format(len(test_set)), '\\n' + 'number of columns: {}'.format(len(test_set.columns)) + '\\n')\n",
        "test_set"
      ],
      "execution_count": null,
      "outputs": [
        {
          "output_type": "stream",
          "text": [
            "TEST SET:\n",
            "\n",
            "number of rows: 3202 \n",
            "number of columns: 2\n",
            "\n"
          ],
          "name": "stdout"
        },
        {
          "output_type": "execute_result",
          "data": {
            "text/html": [
              "<div>\n",
              "<style scoped>\n",
              "    .dataframe tbody tr th:only-of-type {\n",
              "        vertical-align: middle;\n",
              "    }\n",
              "\n",
              "    .dataframe tbody tr th {\n",
              "        vertical-align: top;\n",
              "    }\n",
              "\n",
              "    .dataframe thead th {\n",
              "        text-align: right;\n",
              "    }\n",
              "</style>\n",
              "<table border=\"1\" class=\"dataframe\">\n",
              "  <thead>\n",
              "    <tr style=\"text-align: right;\">\n",
              "      <th></th>\n",
              "      <th>overall</th>\n",
              "      <th>reviewText</th>\n",
              "    </tr>\n",
              "  </thead>\n",
              "  <tbody>\n",
              "    <tr>\n",
              "      <th>0</th>\n",
              "      <td>3.0</td>\n",
              "      <td>Macbook set run Windows VMware Fusion three pr...</td>\n",
              "    </tr>\n",
              "    <tr>\n",
              "      <th>1</th>\n",
              "      <td>5.0</td>\n",
              "      <td>test features new Dragon Dictate Mac decided d...</td>\n",
              "    </tr>\n",
              "    <tr>\n",
              "      <th>2</th>\n",
              "      <td>5.0</td>\n",
              "      <td>Nuance got right Dragon used Dragon PC years o...</td>\n",
              "    </tr>\n",
              "    <tr>\n",
              "      <th>3</th>\n",
              "      <td>5.0</td>\n",
              "      <td>use download line books taxes</td>\n",
              "    </tr>\n",
              "    <tr>\n",
              "      <th>4</th>\n",
              "      <td>4.0</td>\n",
              "      <td>easiest figure even experienced computer perso...</td>\n",
              "    </tr>\n",
              "    <tr>\n",
              "      <th>...</th>\n",
              "      <td>...</td>\n",
              "      <td>...</td>\n",
              "    </tr>\n",
              "    <tr>\n",
              "      <th>3197</th>\n",
              "      <td>4.0</td>\n",
              "      <td>ordered listed Photo Editing Software descript...</td>\n",
              "    </tr>\n",
              "    <tr>\n",
              "      <th>3198</th>\n",
              "      <td>3.0</td>\n",
              "      <td>software SO much going Theres plethora things ...</td>\n",
              "    </tr>\n",
              "    <tr>\n",
              "      <th>3199</th>\n",
              "      <td>4.0</td>\n",
              "      <td>used complex less complex software always retu...</td>\n",
              "    </tr>\n",
              "    <tr>\n",
              "      <th>3200</th>\n",
              "      <td>3.0</td>\n",
              "      <td>Pinnacle Studio Ultimate perfectly serviceable...</td>\n",
              "    </tr>\n",
              "    <tr>\n",
              "      <th>3201</th>\n",
              "      <td>4.0</td>\n",
              "      <td>program fairly easy use provides good results ...</td>\n",
              "    </tr>\n",
              "  </tbody>\n",
              "</table>\n",
              "<p>3202 rows × 2 columns</p>\n",
              "</div>"
            ],
            "text/plain": [
              "      overall                                         reviewText\n",
              "0         3.0  Macbook set run Windows VMware Fusion three pr...\n",
              "1         5.0  test features new Dragon Dictate Mac decided d...\n",
              "2         5.0  Nuance got right Dragon used Dragon PC years o...\n",
              "3         5.0                      use download line books taxes\n",
              "4         4.0  easiest figure even experienced computer perso...\n",
              "...       ...                                                ...\n",
              "3197      4.0  ordered listed Photo Editing Software descript...\n",
              "3198      3.0  software SO much going Theres plethora things ...\n",
              "3199      4.0  used complex less complex software always retu...\n",
              "3200      3.0  Pinnacle Studio Ultimate perfectly serviceable...\n",
              "3201      4.0  program fairly easy use provides good results ...\n",
              "\n",
              "[3202 rows x 2 columns]"
            ]
          },
          "metadata": {
            "tags": []
          },
          "execution_count": 10
        }
      ]
    },
    {
      "cell_type": "markdown",
      "metadata": {
        "id": "rcA0_Nexpwxe"
      },
      "source": [
        "### **Fourth Phase ( Word Embedding ):**\n",
        "Implementing ***BERT*** algorithm to transfer our data to vector space.\n",
        "___________________________\n",
        "\n",
        "***NOTE***: I use These two funtions ( **\"standardize_training_set_for_tokenizing\"** and **\"standardize_test_set_for_tokenizing\"** to replacing large sentenses with \"summary\". Because max lenght we have to use is 512 and too large sentences will cause 'warning' in tokenizing and also 'error' in training section.\n",
        "I should mention that I just checked these function for large sentences of my data set (***software***) and I don't know if they work for large sentences of other data sets or not!! So I just use them for my data set and other data sets might have some errors if they contain large sentences."
      ]
    },
    {
      "cell_type": "code",
      "metadata": {
        "id": "yOMPAk_MZ3fC",
        "colab": {
          "base_uri": "https://localhost:8080/",
          "height": 104
        },
        "outputId": "cdf5e29c-b973-4ed4-bf0b-25b29f415acf"
      },
      "source": [
        "# We use this function to standardize the lenght of \"reviewText\" of training_set due to using in \"tokenizer\":\n",
        "def standardize_training_set_for_tokenizing(t_set):\n",
        "  for j, i in enumerate(t_set['reviewText']):       # We replace \"reviewText\" with \"summary\" if len(\"reviewText\") > 415\n",
        "    b = i.split(' ')\n",
        "    if(len(b) > 415):\n",
        "      t_set['reviewText'].iloc[j] = str(main_df['summary'].iloc[j])\n",
        "\n",
        "# We use this function to standardize the lenght of \"reviewText\" of training_set due to using in \"tokenizer\":\n",
        "def standardize_test_set_for_tokenizing(t_set):\n",
        "  for j, i in enumerate(t_set['reviewText']):      # We replace \"reviewText\" with \"summary\" if len(\"reviewText\") > 439\n",
        "    b = i.split(' ')\n",
        "    if(len(b) > 439):\n",
        "      t_set['reviewText'].iloc[j] = str(main_df['summary'].iloc[j])\n",
        "\n",
        "# This is a padding function to fill vectors with zeros if they were in different size:\n",
        "def pad(tokenized):\n",
        "  for j, i in enumerate(tokenized):\n",
        "    if len(i) < 512:\n",
        "      for k in range(512 - len(i)):\n",
        "        tokenized[j].append(0)\n",
        "\n",
        "if dataset == '25':\n",
        "  standardize_training_set_for_tokenizing(training_set)\n",
        "  standardize_test_set_for_tokenizing(test_set)"
      ],
      "execution_count": null,
      "outputs": [
        {
          "output_type": "stream",
          "text": [
            "/usr/local/lib/python3.6/dist-packages/pandas/core/indexing.py:671: SettingWithCopyWarning: \n",
            "A value is trying to be set on a copy of a slice from a DataFrame\n",
            "\n",
            "See the caveats in the documentation: https://pandas.pydata.org/pandas-docs/stable/user_guide/indexing.html#returning-a-view-versus-a-copy\n",
            "  self._setitem_with_indexer(indexer, value)\n"
          ],
          "name": "stderr"
        }
      ]
    },
    {
      "cell_type": "code",
      "metadata": {
        "id": "tOMH56te_vop",
        "colab": {
          "base_uri": "https://localhost:8080/",
          "height": 165,
          "referenced_widgets": [
            "0795d9c1b22e4c80882e3954529f671c",
            "9dd95c78523d4048b5c2f2590e1b51bd",
            "8af1c785eb50434399887224e72decf7",
            "85cf88f947b14b6787f56f91fdf3cea3",
            "198caf32443c43bb895f8d7e7dd5154e",
            "4f7c7d7dd9c940178e889648a2f20bf8",
            "87eae1f4c9af4b3fa11a052f58a5174e",
            "c41ff63be900473fb88b950737735763",
            "92596968a2c542b48d54057b2b98e300",
            "ebd16817e03643959e26a20ac3c82ce2",
            "7d68a0452b2c4b73b985d99f91515dee",
            "54c4db28d3374560bf7841074636f3e2",
            "5fd1a5db1ba74a3dbf036540dd2165fd",
            "5fd7a7d9d998421dbea3984c55401c9c",
            "3028ee6696194a02bf9cb2379020e45a",
            "40ee7fe2423c4e64aa9f4081d2076465",
            "69eb92fee0fd4524b70854d218e43815",
            "6a6ff863907446f0a5876601dff72ac7",
            "716ac79b80494d5ebd0b5d377d29f621",
            "f567629a896544a2a0f254f94bc8f655",
            "871f1adac785495ab71089ea99566ddf",
            "a9044f2d27e14ab9b0408253e5918f51",
            "063ccccb92434450a37d9569920ca3cb",
            "309aeaeb34e3498c97eb03daa0f7b577"
          ]
        },
        "outputId": "426561db-6fff-4661-9d12-ea9274c8b54d"
      },
      "source": [
        "model_class, tokenizer_class, pretrained_weights = (ppb.BertModel, ppb.BertTokenizer, 'bert-base-uncased')\n",
        "\n",
        "tokenizer = tokenizer_class.from_pretrained(pretrained_weights, do_lower_case=True)\n",
        "model = model_class.from_pretrained(pretrained_weights)\n",
        "\n",
        "tokenized_training_features = training_set['reviewText'].apply((lambda x: tokenizer.encode(x, add_special_tokens=True))) # tokenization of training_set_features\n",
        "tokenized_test_features = test_set['reviewText'].apply((lambda x: tokenizer.encode(x, add_special_tokens=True)))         # tokenization of test_set_features\n",
        "pad(tokenized_training_features)\n",
        "pad(tokenized_test_features)"
      ],
      "execution_count": null,
      "outputs": [
        {
          "output_type": "display_data",
          "data": {
            "application/vnd.jupyter.widget-view+json": {
              "model_id": "0795d9c1b22e4c80882e3954529f671c",
              "version_minor": 0,
              "version_major": 2
            },
            "text/plain": [
              "HBox(children=(FloatProgress(value=0.0, description='Downloading', max=231508.0, style=ProgressStyle(descripti…"
            ]
          },
          "metadata": {
            "tags": []
          }
        },
        {
          "output_type": "stream",
          "text": [
            "\n"
          ],
          "name": "stdout"
        },
        {
          "output_type": "display_data",
          "data": {
            "application/vnd.jupyter.widget-view+json": {
              "model_id": "92596968a2c542b48d54057b2b98e300",
              "version_minor": 0,
              "version_major": 2
            },
            "text/plain": [
              "HBox(children=(FloatProgress(value=0.0, description='Downloading', max=433.0, style=ProgressStyle(description_…"
            ]
          },
          "metadata": {
            "tags": []
          }
        },
        {
          "output_type": "stream",
          "text": [
            "\n"
          ],
          "name": "stdout"
        },
        {
          "output_type": "display_data",
          "data": {
            "application/vnd.jupyter.widget-view+json": {
              "model_id": "69eb92fee0fd4524b70854d218e43815",
              "version_minor": 0,
              "version_major": 2
            },
            "text/plain": [
              "HBox(children=(FloatProgress(value=0.0, description='Downloading', max=440473133.0, style=ProgressStyle(descri…"
            ]
          },
          "metadata": {
            "tags": []
          }
        },
        {
          "output_type": "stream",
          "text": [
            "\n"
          ],
          "name": "stdout"
        }
      ]
    },
    {
      "cell_type": "code",
      "metadata": {
        "id": "qU2q2u-poPZ4",
        "colab": {
          "base_uri": "https://localhost:8080/",
          "height": 225
        },
        "outputId": "3475c18e-c01c-4cb0-9df9-a4d59bb74880"
      },
      "source": [
        "# Convert all of our data into torch tensors, the required datatype for our model\n",
        "training_features = torch.tensor(tokenized_training_features)\n",
        "test_features = torch.tensor(tokenized_test_features)\n",
        "tokenized_test_features"
      ],
      "execution_count": null,
      "outputs": [
        {
          "output_type": "execute_result",
          "data": {
            "text/plain": [
              "0       [101, 6097, 8654, 2275, 2448, 3645, 1058, 2213...\n",
              "1       [101, 3231, 2838, 2047, 5202, 4487, 25572, 261...\n",
              "2       [101, 16371, 6651, 2288, 2157, 5202, 2109, 520...\n",
              "3       [101, 2224, 8816, 2240, 2808, 7773, 102, 0, 0,...\n",
              "4       [101, 25551, 3275, 2130, 5281, 3274, 2711, 641...\n",
              "                              ...                        \n",
              "3197    [101, 3641, 3205, 6302, 9260, 4007, 6412, 2267...\n",
              "3198    [101, 4007, 2061, 2172, 2183, 2045, 2015, 2022...\n",
              "3199    [101, 2109, 3375, 2625, 3375, 4007, 2467, 2709...\n",
              "3200    [101, 26007, 2996, 7209, 6669, 2326, 3085, 464...\n",
              "3201    [101, 2565, 7199, 3733, 2224, 3640, 2204, 3463...\n",
              "Name: reviewText, Length: 3202, dtype: object"
            ]
          },
          "metadata": {
            "tags": []
          },
          "execution_count": 13
        }
      ]
    },
    {
      "cell_type": "markdown",
      "metadata": {
        "id": "1lrYCXddG2vW"
      },
      "source": [
        "##  **Fifith Phrase ( Classification ):**\n",
        "\n",
        "1.   Naive Bayes\n",
        "2.  SVM\n",
        "3. Logistic Regression\n",
        "\n"
      ]
    },
    {
      "cell_type": "code",
      "metadata": {
        "id": "txiGNDaroP3X"
      },
      "source": [
        "# Naive Bayes:\n",
        "\n",
        "gnb_clf = GaussianNB()                                       # Create model\n",
        "gnb_clf.fit(training_features, training_set['overall'])      # Train\n",
        "gnb_clf_predicts = gnb_clf.predict(test_features)            # Predict"
      ],
      "execution_count": null,
      "outputs": []
    },
    {
      "cell_type": "code",
      "metadata": {
        "id": "Xh7Cn760K54B"
      },
      "source": [
        "# SVM:\n",
        "\n",
        "svm_clf = svm.SVC()                                          # Create model\n",
        "svm_clf.fit(training_features, training_set['overall'])      # Train\n",
        "svm_clf_predicts = svm_clf.predict(test_features)            # Predict"
      ],
      "execution_count": null,
      "outputs": []
    },
    {
      "cell_type": "code",
      "metadata": {
        "id": "q4jEdJjoMjZF",
        "colab": {
          "base_uri": "https://localhost:8080/",
          "height": 156
        },
        "outputId": "994e5a7f-94cc-4c94-89db-b602b81bd569"
      },
      "source": [
        "# Logistic Regression:\n",
        "\n",
        "logisticRegr = LogisticRegression()                           # Create model\n",
        "logisticRegr.fit(training_features, training_set['overall'])  # Train\n",
        "logisticRegr_predicts = logisticRegr.predict(test_features)   # Predict"
      ],
      "execution_count": null,
      "outputs": [
        {
          "output_type": "stream",
          "text": [
            "/usr/local/lib/python3.6/dist-packages/sklearn/linear_model/_logistic.py:940: ConvergenceWarning: lbfgs failed to converge (status=1):\n",
            "STOP: TOTAL NO. of ITERATIONS REACHED LIMIT.\n",
            "\n",
            "Increase the number of iterations (max_iter) or scale the data as shown in:\n",
            "    https://scikit-learn.org/stable/modules/preprocessing.html\n",
            "Please also refer to the documentation for alternative solver options:\n",
            "    https://scikit-learn.org/stable/modules/linear_model.html#logistic-regression\n",
            "  extra_warning_msg=_LOGISTIC_SOLVER_CONVERGENCE_MSG)\n"
          ],
          "name": "stderr"
        }
      ]
    },
    {
      "cell_type": "code",
      "metadata": {
        "id": "jalrCzt1Jfhn",
        "colab": {
          "base_uri": "https://localhost:8080/",
          "height": 69
        },
        "outputId": "c1dc6b66-735a-47df-9640-c6875ce2c9a5"
      },
      "source": [
        "print('Bayes accuracy: {}'.format(gnb_clf.score(test_features, test_set['overall'])))\n",
        "print('SVM accuracy: {}'.format(svm_clf.score(test_features, test_set['overall'])))\n",
        "print('logisti accuracy: {}'.format(logisticRegr.score(test_features, test_set['overall'])))"
      ],
      "execution_count": null,
      "outputs": [
        {
          "output_type": "stream",
          "text": [
            "Bayes accuracy: 0.048094940662086194\n",
            "SVM accuracy: 0.4678326046221112\n",
            "logisti accuracy: 0.4437851342910681\n"
          ],
          "name": "stdout"
        }
      ]
    },
    {
      "cell_type": "markdown",
      "metadata": {
        "id": "fcWZIlqOhOEp"
      },
      "source": [
        "## **Sixth Phase ( Model Evaluation ):**\n",
        "\n",
        "\n",
        "*   Make Confision Matrix\n",
        "*   F1-score Evaluation\n",
        "\n"
      ]
    },
    {
      "cell_type": "code",
      "metadata": {
        "id": "YqqVv_65iVrN",
        "colab": {
          "base_uri": "https://localhost:8080/",
          "height": 206
        },
        "outputId": "5b41bdd9-040f-4ede-c082-c4d70e6a1e1f"
      },
      "source": [
        "# Naive Bayes Confusion Matrix:\n",
        "\n",
        "gnb_confusion_Matrix = pd.crosstab(gnb_clf_predicts, test_set['overall'])\n",
        "gnb_confusion_Matrix"
      ],
      "execution_count": null,
      "outputs": [
        {
          "output_type": "execute_result",
          "data": {
            "text/html": [
              "<div>\n",
              "<style scoped>\n",
              "    .dataframe tbody tr th:only-of-type {\n",
              "        vertical-align: middle;\n",
              "    }\n",
              "\n",
              "    .dataframe tbody tr th {\n",
              "        vertical-align: top;\n",
              "    }\n",
              "\n",
              "    .dataframe thead th {\n",
              "        text-align: right;\n",
              "    }\n",
              "</style>\n",
              "<table border=\"1\" class=\"dataframe\">\n",
              "  <thead>\n",
              "    <tr style=\"text-align: right;\">\n",
              "      <th>overall</th>\n",
              "      <th>1.0</th>\n",
              "      <th>2.0</th>\n",
              "      <th>3.0</th>\n",
              "      <th>4.0</th>\n",
              "      <th>5.0</th>\n",
              "    </tr>\n",
              "    <tr>\n",
              "      <th>row_0</th>\n",
              "      <th></th>\n",
              "      <th></th>\n",
              "      <th></th>\n",
              "      <th></th>\n",
              "      <th></th>\n",
              "    </tr>\n",
              "  </thead>\n",
              "  <tbody>\n",
              "    <tr>\n",
              "      <th>1.0</th>\n",
              "      <td>0</td>\n",
              "      <td>0</td>\n",
              "      <td>2</td>\n",
              "      <td>2</td>\n",
              "      <td>1</td>\n",
              "    </tr>\n",
              "    <tr>\n",
              "      <th>2.0</th>\n",
              "      <td>390</td>\n",
              "      <td>141</td>\n",
              "      <td>372</td>\n",
              "      <td>798</td>\n",
              "      <td>1450</td>\n",
              "    </tr>\n",
              "    <tr>\n",
              "      <th>3.0</th>\n",
              "      <td>2</td>\n",
              "      <td>1</td>\n",
              "      <td>2</td>\n",
              "      <td>5</td>\n",
              "      <td>5</td>\n",
              "    </tr>\n",
              "    <tr>\n",
              "      <th>4.0</th>\n",
              "      <td>2</td>\n",
              "      <td>1</td>\n",
              "      <td>11</td>\n",
              "      <td>11</td>\n",
              "      <td>6</td>\n",
              "    </tr>\n",
              "  </tbody>\n",
              "</table>\n",
              "</div>"
            ],
            "text/plain": [
              "overall  1.0  2.0  3.0  4.0   5.0\n",
              "row_0                            \n",
              "1.0        0    0    2    2     1\n",
              "2.0      390  141  372  798  1450\n",
              "3.0        2    1    2    5     5\n",
              "4.0        2    1   11   11     6"
            ]
          },
          "metadata": {
            "tags": []
          },
          "execution_count": 18
        }
      ]
    },
    {
      "cell_type": "code",
      "metadata": {
        "id": "7gsONm69r0kj",
        "colab": {
          "base_uri": "https://localhost:8080/",
          "height": 206
        },
        "outputId": "2aec9389-22dc-4a35-a1a4-a054c7ead6ad"
      },
      "source": [
        "# SVM Confusion Matrix:\n",
        "\n",
        "svm_confusion_Matrix = pd.crosstab(svm_clf_predicts, test_set['overall'])\n",
        "svm_confusion_Matrix"
      ],
      "execution_count": null,
      "outputs": [
        {
          "output_type": "execute_result",
          "data": {
            "text/html": [
              "<div>\n",
              "<style scoped>\n",
              "    .dataframe tbody tr th:only-of-type {\n",
              "        vertical-align: middle;\n",
              "    }\n",
              "\n",
              "    .dataframe tbody tr th {\n",
              "        vertical-align: top;\n",
              "    }\n",
              "\n",
              "    .dataframe thead th {\n",
              "        text-align: right;\n",
              "    }\n",
              "</style>\n",
              "<table border=\"1\" class=\"dataframe\">\n",
              "  <thead>\n",
              "    <tr style=\"text-align: right;\">\n",
              "      <th>overall</th>\n",
              "      <th>1.0</th>\n",
              "      <th>2.0</th>\n",
              "      <th>3.0</th>\n",
              "      <th>4.0</th>\n",
              "      <th>5.0</th>\n",
              "    </tr>\n",
              "    <tr>\n",
              "      <th>row_0</th>\n",
              "      <th></th>\n",
              "      <th></th>\n",
              "      <th></th>\n",
              "      <th></th>\n",
              "      <th></th>\n",
              "    </tr>\n",
              "  </thead>\n",
              "  <tbody>\n",
              "    <tr>\n",
              "      <th>1.0</th>\n",
              "      <td>3</td>\n",
              "      <td>1</td>\n",
              "      <td>0</td>\n",
              "      <td>0</td>\n",
              "      <td>0</td>\n",
              "    </tr>\n",
              "    <tr>\n",
              "      <th>3.0</th>\n",
              "      <td>0</td>\n",
              "      <td>0</td>\n",
              "      <td>1</td>\n",
              "      <td>0</td>\n",
              "      <td>0</td>\n",
              "    </tr>\n",
              "    <tr>\n",
              "      <th>4.0</th>\n",
              "      <td>36</td>\n",
              "      <td>20</td>\n",
              "      <td>40</td>\n",
              "      <td>102</td>\n",
              "      <td>70</td>\n",
              "    </tr>\n",
              "    <tr>\n",
              "      <th>5.0</th>\n",
              "      <td>355</td>\n",
              "      <td>122</td>\n",
              "      <td>346</td>\n",
              "      <td>714</td>\n",
              "      <td>1392</td>\n",
              "    </tr>\n",
              "  </tbody>\n",
              "</table>\n",
              "</div>"
            ],
            "text/plain": [
              "overall  1.0  2.0  3.0  4.0   5.0\n",
              "row_0                            \n",
              "1.0        3    1    0    0     0\n",
              "3.0        0    0    1    0     0\n",
              "4.0       36   20   40  102    70\n",
              "5.0      355  122  346  714  1392"
            ]
          },
          "metadata": {
            "tags": []
          },
          "execution_count": 19
        }
      ]
    },
    {
      "cell_type": "code",
      "metadata": {
        "id": "PVluaSkBsfiP",
        "colab": {
          "base_uri": "https://localhost:8080/",
          "height": 238
        },
        "outputId": "14efa3a4-de40-48f4-c931-01f9110990ba"
      },
      "source": [
        "# Logistic Regression Confusion Matrix:\n",
        "\n",
        "logisticRegr_confusion_Matrix = pd.crosstab(logisticRegr_predicts, test_set['overall'])\n",
        "logisticRegr_confusion_Matrix"
      ],
      "execution_count": null,
      "outputs": [
        {
          "output_type": "execute_result",
          "data": {
            "text/html": [
              "<div>\n",
              "<style scoped>\n",
              "    .dataframe tbody tr th:only-of-type {\n",
              "        vertical-align: middle;\n",
              "    }\n",
              "\n",
              "    .dataframe tbody tr th {\n",
              "        vertical-align: top;\n",
              "    }\n",
              "\n",
              "    .dataframe thead th {\n",
              "        text-align: right;\n",
              "    }\n",
              "</style>\n",
              "<table border=\"1\" class=\"dataframe\">\n",
              "  <thead>\n",
              "    <tr style=\"text-align: right;\">\n",
              "      <th>overall</th>\n",
              "      <th>1.0</th>\n",
              "      <th>2.0</th>\n",
              "      <th>3.0</th>\n",
              "      <th>4.0</th>\n",
              "      <th>5.0</th>\n",
              "    </tr>\n",
              "    <tr>\n",
              "      <th>row_0</th>\n",
              "      <th></th>\n",
              "      <th></th>\n",
              "      <th></th>\n",
              "      <th></th>\n",
              "      <th></th>\n",
              "    </tr>\n",
              "  </thead>\n",
              "  <tbody>\n",
              "    <tr>\n",
              "      <th>1.0</th>\n",
              "      <td>7</td>\n",
              "      <td>3</td>\n",
              "      <td>14</td>\n",
              "      <td>29</td>\n",
              "      <td>27</td>\n",
              "    </tr>\n",
              "    <tr>\n",
              "      <th>2.0</th>\n",
              "      <td>4</td>\n",
              "      <td>0</td>\n",
              "      <td>3</td>\n",
              "      <td>17</td>\n",
              "      <td>12</td>\n",
              "    </tr>\n",
              "    <tr>\n",
              "      <th>3.0</th>\n",
              "      <td>12</td>\n",
              "      <td>5</td>\n",
              "      <td>15</td>\n",
              "      <td>46</td>\n",
              "      <td>30</td>\n",
              "    </tr>\n",
              "    <tr>\n",
              "      <th>4.0</th>\n",
              "      <td>33</td>\n",
              "      <td>22</td>\n",
              "      <td>59</td>\n",
              "      <td>106</td>\n",
              "      <td>100</td>\n",
              "    </tr>\n",
              "    <tr>\n",
              "      <th>5.0</th>\n",
              "      <td>338</td>\n",
              "      <td>113</td>\n",
              "      <td>296</td>\n",
              "      <td>618</td>\n",
              "      <td>1293</td>\n",
              "    </tr>\n",
              "  </tbody>\n",
              "</table>\n",
              "</div>"
            ],
            "text/plain": [
              "overall  1.0  2.0  3.0  4.0   5.0\n",
              "row_0                            \n",
              "1.0        7    3   14   29    27\n",
              "2.0        4    0    3   17    12\n",
              "3.0       12    5   15   46    30\n",
              "4.0       33   22   59  106   100\n",
              "5.0      338  113  296  618  1293"
            ]
          },
          "metadata": {
            "tags": []
          },
          "execution_count": 20
        }
      ]
    },
    {
      "cell_type": "code",
      "metadata": {
        "id": "yRAqpw1hWIqs"
      },
      "source": [
        "scores = []"
      ],
      "execution_count": null,
      "outputs": []
    },
    {
      "cell_type": "code",
      "metadata": {
        "id": "DYjUDBWazykX",
        "colab": {
          "base_uri": "https://localhost:8080/",
          "height": 34
        },
        "outputId": "462095e0-ca23-460e-a8f7-20c2d3a619ae"
      },
      "source": [
        "# Naive Bayes f1_score:\n",
        "\n",
        "gnb_f1_score = f1_score(test_set['overall'], gnb_clf_predicts, zero_division=1, average='macro')\n",
        "scores.append(gnb_f1_score)\n",
        "gnb_f1_score"
      ],
      "execution_count": null,
      "outputs": [
        {
          "output_type": "execute_result",
          "data": {
            "text/plain": [
              "0.024306895018908717"
            ]
          },
          "metadata": {
            "tags": []
          },
          "execution_count": 22
        }
      ]
    },
    {
      "cell_type": "code",
      "metadata": {
        "id": "bfcbxM5sz09q",
        "colab": {
          "base_uri": "https://localhost:8080/",
          "height": 34
        },
        "outputId": "8b990bce-1dc7-4fa7-e6d8-4bc6c39545cd"
      },
      "source": [
        "# SVM f1_score:\n",
        "\n",
        "svm_f1_score = f1_score(test_set['overall'], svm_clf_predicts, zero_division=1, average='macro')\n",
        "scores.append(svm_f1_score)\n",
        "svm_f1_score"
      ],
      "execution_count": null,
      "outputs": [
        {
          "output_type": "execute_result",
          "data": {
            "text/plain": [
              "0.1684892076530899"
            ]
          },
          "metadata": {
            "tags": []
          },
          "execution_count": 23
        }
      ]
    },
    {
      "cell_type": "code",
      "metadata": {
        "id": "9II6vGXyz1sK",
        "colab": {
          "base_uri": "https://localhost:8080/",
          "height": 34
        },
        "outputId": "0d6e3854-3d95-47ab-cbe8-8172ea766eab"
      },
      "source": [
        "# Logistic Regression f1_score:\n",
        "\n",
        "logisticRegr_f1_score = f1_score(test_set['overall'], logisticRegr_predicts, zero_division=1, average='macro')\n",
        "scores.append(logisticRegr_f1_score)\n",
        "logisticRegr_f1_score"
      ],
      "execution_count": null,
      "outputs": [
        {
          "output_type": "execute_result",
          "data": {
            "text/plain": [
              "0.1808863093614888"
            ]
          },
          "metadata": {
            "tags": []
          },
          "execution_count": 24
        }
      ]
    },
    {
      "cell_type": "markdown",
      "metadata": {
        "id": "pkuadiMZMa65"
      },
      "source": [
        "##   **Seventh Phase ( Model Illustration ):**"
      ]
    },
    {
      "cell_type": "code",
      "metadata": {
        "id": "u5hE8a1RYegR",
        "colab": {
          "base_uri": "https://localhost:8080/",
          "height": 34
        },
        "outputId": "d61a7686-a32f-48b4-c798-5f9d584c946f"
      },
      "source": [
        "labels = ['Naive Bayes', 'SVM', 'Logistic Regression']\n",
        "scores"
      ],
      "execution_count": null,
      "outputs": [
        {
          "output_type": "execute_result",
          "data": {
            "text/plain": [
              "[0.024306895018908717, 0.1684892076530899, 0.1808863093614888]"
            ]
          },
          "metadata": {
            "tags": []
          },
          "execution_count": 25
        }
      ]
    },
    {
      "cell_type": "code",
      "metadata": {
        "id": "xCVNOoNNM_ji",
        "colab": {
          "base_uri": "https://localhost:8080/",
          "height": 331
        },
        "outputId": "febd0c30-d694-41e3-f113-8fc701712bf6"
      },
      "source": [
        "index = np.arange(len(labels))                      # number of bars\n",
        "plt.bar(index, scores)                              # make plot\n",
        "plt.xlabel('Methods', fontsize=15)\n",
        "plt.ylabel('F1-score', fontsize=15)\n",
        "plt.xticks(index, labels, fontsize=10, rotation=30) # set bar names\n",
        "plt.show()"
      ],
      "execution_count": null,
      "outputs": [
        {
          "output_type": "display_data",
          "data": {
            "image/png": "[encoded data removed]",
            "text/plain": [
              "<Figure size 432x288 with 1 Axes>"
            ]
          },
          "metadata": {
            "tags": [],
            "needs_background": "light"
          }
        }
      ]
    }
  ]
}